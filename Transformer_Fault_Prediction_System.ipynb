{
  "nbformat": 4,
  "nbformat_minor": 0,
  "metadata": {
    "colab": {
      "provenance": []
    },
    "kernelspec": {
      "name": "python3",
      "display_name": "Python 3"
    },
    "language_info": {
      "name": "python"
    }
  },
  "cells": [
    {
      "cell_type": "code",
      "source": [
        "import pandas as pd\n",
        "import numpy as np\n",
        "from tensorflow.keras.models import Sequential\n",
        "from tensorflow.keras.layers import Dense\n",
        "from sklearn.model_selection import train_test_split\n",
        "from sklearn.metrics import f1_score, confusion_matrix, ConfusionMatrixDisplay\n",
        "import matplotlib.pyplot as plt\n",
        "from sklearn.model_selection import KFold\n",
        "from sklearn.metrics import precision_recall_fscore_support, roc_auc_score, confusion_matrix"
      ],
      "metadata": {
        "id": "4FTdUyH9PILn"
      },
      "execution_count": 23,
      "outputs": []
    },
    {
      "cell_type": "code",
      "source": [
        "import pandas as pd\n",
        "from sklearn.preprocessing import MinMaxScaler\n",
        "\n",
        "# Load the dataset\n",
        "df = pd.read_csv('transformer_condition_dataset.csv')\n",
        "\n",
        "# Separate features and label\n",
        "features = df[['Temperature (°C)', 'Oil Level (%)', 'Current (A)', 'Voltage (V)', 'Vibration (m/s²)']]\n",
        "labels = df['Condition']"
      ],
      "metadata": {
        "id": "WWEojLPftwLf"
      },
      "execution_count": 8,
      "outputs": []
    },
    {
      "cell_type": "code",
      "source": [
        "scaler = MinMaxScaler()\n",
        "\n",
        "# Fit and transform the features\n",
        "normalized_features = scaler.fit_transform(features)\n",
        "\n",
        "# Create a new DataFrame with normalized data\n",
        "normalized_df = pd.DataFrame(normalized_features, columns=features.columns)\n",
        "normalized_df['Condition'] = labels"
      ],
      "metadata": {
        "id": "i2CvF5svT2XG"
      },
      "execution_count": 9,
      "outputs": []
    },
    {
      "cell_type": "code",
      "source": [
        "normalized_df.to_csv('transformer_condition_dataset_normalized.csv', index=False)\n",
        "\n",
        "# Display first few rows\n",
        "print(\"First 5 rows of the normalized dataset:\")\n",
        "print(normalized_df.head())"
      ],
      "metadata": {
        "id": "J6jADG_-UJEu",
        "colab": {
          "base_uri": "https://localhost:8080/"
        },
        "outputId": "ac71efac-ce67-4342-c6df-d00a8aea66f7"
      },
      "execution_count": 10,
      "outputs": [
        {
          "output_type": "stream",
          "name": "stdout",
          "text": [
            "First 5 rows of the normalized dataset:\n",
            "   Temperature (°C)  Oil Level (%)  Current (A)  Voltage (V)  \\\n",
            "0          0.527778       0.899875     0.341429         0.43   \n",
            "1          0.481111       0.849812     0.404286         0.40   \n",
            "2          0.585556       0.450563     0.837143         0.88   \n",
            "3          0.253333       0.919900     0.114286         0.50   \n",
            "4          0.337778       0.688360     0.037143         0.59   \n",
            "\n",
            "   Vibration (m/s²)  Condition  \n",
            "0          0.034483          0  \n",
            "1          0.310345          0  \n",
            "2          0.413793          2  \n",
            "3          0.172414          0  \n",
            "4          0.310345          0  \n"
          ]
        }
      ]
    },
    {
      "cell_type": "code",
      "source": [
        "\n",
        "# Load normalized data\n",
        "df = pd.read_csv('transformer_condition_dataset_normalized.csv')\n",
        "X = df.drop('Condition', axis=1)\n",
        "y = pd.get_dummies(df['Condition'])  # One-hot encode labels\n"
      ],
      "metadata": {
        "id": "R7Zf0M6AzERq"
      },
      "execution_count": 24,
      "outputs": []
    },
    {
      "cell_type": "code",
      "source": [
        "\n",
        "# Split data\n",
        "X_train, X_test, y_train, y_test = train_test_split(X, y, test_size=0.2, random_state=42)\n",
        "\n",
        "# Build MLP\n",
        "model = Sequential([\n",
        "    Dense(64, activation='relu', input_shape=(5,)),\n",
        "    Dense(64, activation='relu'),\n",
        "    Dense(3, activation='softmax')\n",
        "])\n",
        "\n",
        "# Compile\n",
        "model.compile(optimizer='adam', loss='categorical_crossentropy', metrics=['accuracy'])\n",
        "\n",
        "# Train\n",
        "model.fit(X_train, y_train, epochs=20, batch_size=32, validation_split=0.2, verbose=1)\n",
        "\n",
        "# Predict on test set\n",
        "y_pred_proba = model.predict(X_test)\n",
        "y_pred = np.argmax(y_pred_proba, axis=1)  # Convert probabilities to class labels\n",
        "y_test_labels = np.argmax(y_test.values, axis=1)  # Convert one-hot to labels\n"
      ],
      "metadata": {
        "colab": {
          "base_uri": "https://localhost:8080/"
        },
        "id": "q_TTaLYEzHmu",
        "outputId": "62555af7-4853-48d6-abc9-3d48f92f5c50"
      },
      "execution_count": 25,
      "outputs": [
        {
          "output_type": "stream",
          "name": "stderr",
          "text": [
            "/usr/local/lib/python3.11/dist-packages/keras/src/layers/core/dense.py:87: UserWarning: Do not pass an `input_shape`/`input_dim` argument to a layer. When using Sequential models, prefer using an `Input(shape)` object as the first layer in the model instead.\n",
            "  super().__init__(activity_regularizer=activity_regularizer, **kwargs)\n"
          ]
        },
        {
          "output_type": "stream",
          "name": "stdout",
          "text": [
            "Epoch 1/20\n",
            "\u001b[1m80/80\u001b[0m \u001b[32m━━━━━━━━━━━━━━━━━━━━\u001b[0m\u001b[37m\u001b[0m \u001b[1m4s\u001b[0m 18ms/step - accuracy: 0.5550 - loss: 0.9450 - val_accuracy: 0.8453 - val_loss: 0.5236\n",
            "Epoch 2/20\n",
            "\u001b[1m80/80\u001b[0m \u001b[32m━━━━━━━━━━━━━━━━━━━━\u001b[0m\u001b[37m\u001b[0m \u001b[1m2s\u001b[0m 5ms/step - accuracy: 0.8479 - loss: 0.4639 - val_accuracy: 0.8703 - val_loss: 0.3684\n",
            "Epoch 3/20\n",
            "\u001b[1m80/80\u001b[0m \u001b[32m━━━━━━━━━━━━━━━━━━━━\u001b[0m\u001b[37m\u001b[0m \u001b[1m0s\u001b[0m 4ms/step - accuracy: 0.8777 - loss: 0.3260 - val_accuracy: 0.8719 - val_loss: 0.3401\n",
            "Epoch 4/20\n",
            "\u001b[1m80/80\u001b[0m \u001b[32m━━━━━━━━━━━━━━━━━━━━\u001b[0m\u001b[37m\u001b[0m \u001b[1m1s\u001b[0m 4ms/step - accuracy: 0.8662 - loss: 0.3273 - val_accuracy: 0.8766 - val_loss: 0.3199\n",
            "Epoch 5/20\n",
            "\u001b[1m80/80\u001b[0m \u001b[32m━━━━━━━━━━━━━━━━━━━━\u001b[0m\u001b[37m\u001b[0m \u001b[1m0s\u001b[0m 4ms/step - accuracy: 0.8878 - loss: 0.2939 - val_accuracy: 0.8859 - val_loss: 0.3073\n",
            "Epoch 6/20\n",
            "\u001b[1m80/80\u001b[0m \u001b[32m━━━━━━━━━━━━━━━━━━━━\u001b[0m\u001b[37m\u001b[0m \u001b[1m1s\u001b[0m 5ms/step - accuracy: 0.8835 - loss: 0.2887 - val_accuracy: 0.8875 - val_loss: 0.2982\n",
            "Epoch 7/20\n",
            "\u001b[1m80/80\u001b[0m \u001b[32m━━━━━━━━━━━━━━━━━━━━\u001b[0m\u001b[37m\u001b[0m \u001b[1m1s\u001b[0m 4ms/step - accuracy: 0.8880 - loss: 0.2807 - val_accuracy: 0.8859 - val_loss: 0.3013\n",
            "Epoch 8/20\n",
            "\u001b[1m80/80\u001b[0m \u001b[32m━━━━━━━━━━━━━━━━━━━━\u001b[0m\u001b[37m\u001b[0m \u001b[1m1s\u001b[0m 6ms/step - accuracy: 0.8977 - loss: 0.2778 - val_accuracy: 0.8953 - val_loss: 0.2829\n",
            "Epoch 9/20\n",
            "\u001b[1m80/80\u001b[0m \u001b[32m━━━━━━━━━━━━━━━━━━━━\u001b[0m\u001b[37m\u001b[0m \u001b[1m0s\u001b[0m 4ms/step - accuracy: 0.8908 - loss: 0.2675 - val_accuracy: 0.8984 - val_loss: 0.2706\n",
            "Epoch 10/20\n",
            "\u001b[1m80/80\u001b[0m \u001b[32m━━━━━━━━━━━━━━━━━━━━\u001b[0m\u001b[37m\u001b[0m \u001b[1m0s\u001b[0m 4ms/step - accuracy: 0.8996 - loss: 0.2473 - val_accuracy: 0.9016 - val_loss: 0.2578\n",
            "Epoch 11/20\n",
            "\u001b[1m80/80\u001b[0m \u001b[32m━━━━━━━━━━━━━━━━━━━━\u001b[0m\u001b[37m\u001b[0m \u001b[1m1s\u001b[0m 4ms/step - accuracy: 0.9047 - loss: 0.2418 - val_accuracy: 0.9016 - val_loss: 0.2468\n",
            "Epoch 12/20\n",
            "\u001b[1m80/80\u001b[0m \u001b[32m━━━━━━━━━━━━━━━━━━━━\u001b[0m\u001b[37m\u001b[0m \u001b[1m1s\u001b[0m 4ms/step - accuracy: 0.9189 - loss: 0.2146 - val_accuracy: 0.9047 - val_loss: 0.2420\n",
            "Epoch 13/20\n",
            "\u001b[1m80/80\u001b[0m \u001b[32m━━━━━━━━━━━━━━━━━━━━\u001b[0m\u001b[37m\u001b[0m \u001b[1m1s\u001b[0m 7ms/step - accuracy: 0.9157 - loss: 0.2239 - val_accuracy: 0.9172 - val_loss: 0.2228\n",
            "Epoch 14/20\n",
            "\u001b[1m80/80\u001b[0m \u001b[32m━━━━━━━━━━━━━━━━━━━━\u001b[0m\u001b[37m\u001b[0m \u001b[1m1s\u001b[0m 7ms/step - accuracy: 0.9287 - loss: 0.1862 - val_accuracy: 0.9266 - val_loss: 0.2111\n",
            "Epoch 15/20\n",
            "\u001b[1m80/80\u001b[0m \u001b[32m━━━━━━━━━━━━━━━━━━━━\u001b[0m\u001b[37m\u001b[0m \u001b[1m1s\u001b[0m 7ms/step - accuracy: 0.9271 - loss: 0.1969 - val_accuracy: 0.9312 - val_loss: 0.2038\n",
            "Epoch 16/20\n",
            "\u001b[1m80/80\u001b[0m \u001b[32m━━━━━━━━━━━━━━━━━━━━\u001b[0m\u001b[37m\u001b[0m \u001b[1m1s\u001b[0m 7ms/step - accuracy: 0.9450 - loss: 0.1729 - val_accuracy: 0.9281 - val_loss: 0.1954\n",
            "Epoch 17/20\n",
            "\u001b[1m80/80\u001b[0m \u001b[32m━━━━━━━━━━━━━━━━━━━━\u001b[0m\u001b[37m\u001b[0m \u001b[1m0s\u001b[0m 4ms/step - accuracy: 0.9309 - loss: 0.1806 - val_accuracy: 0.9328 - val_loss: 0.1919\n",
            "Epoch 18/20\n",
            "\u001b[1m80/80\u001b[0m \u001b[32m━━━━━━━━━━━━━━━━━━━━\u001b[0m\u001b[37m\u001b[0m \u001b[1m1s\u001b[0m 5ms/step - accuracy: 0.9379 - loss: 0.1735 - val_accuracy: 0.9391 - val_loss: 0.1765\n",
            "Epoch 19/20\n",
            "\u001b[1m80/80\u001b[0m \u001b[32m━━━━━━━━━━━━━━━━━━━━\u001b[0m\u001b[37m\u001b[0m \u001b[1m1s\u001b[0m 4ms/step - accuracy: 0.9397 - loss: 0.1647 - val_accuracy: 0.9406 - val_loss: 0.1741\n",
            "Epoch 20/20\n",
            "\u001b[1m80/80\u001b[0m \u001b[32m━━━━━━━━━━━━━━━━━━━━\u001b[0m\u001b[37m\u001b[0m \u001b[1m0s\u001b[0m 4ms/step - accuracy: 0.9493 - loss: 0.1509 - val_accuracy: 0.9422 - val_loss: 0.1628\n",
            "\u001b[1m25/25\u001b[0m \u001b[32m━━━━━━━━━━━━━━━━━━━━\u001b[0m\u001b[37m\u001b[0m \u001b[1m0s\u001b[0m 2ms/step \n"
          ]
        }
      ]
    },
    {
      "cell_type": "code",
      "source": [
        "\n",
        "# Calculate F1 Score\n",
        "f1 = f1_score(y_test_labels, y_pred, average='weighted')  # Weighted average for multi-class\n",
        "print(f\"F1 Score (Weighted): {f1:.4f}\")\n",
        "\n",
        "# Confusion Matrix\n",
        "cm = confusion_matrix(y_test_labels, y_pred)\n",
        "print(\"\\nConfusion Matrix:\")\n",
        "print(cm)\n",
        "\n",
        "# Plot Confusion Matrix\n",
        "disp = ConfusionMatrixDisplay(confusion_matrix=cm, display_labels=['Normal', 'Not Good', 'Severe'])\n",
        "disp.plot(cmap='Blues')\n",
        "plt.title('Confusion Matrix')\n",
        "plt.show()"
      ],
      "metadata": {
        "colab": {
          "base_uri": "https://localhost:8080/",
          "height": 576
        },
        "id": "K74BKW9GxgOl",
        "outputId": "58c9bc3b-836a-40a5-c29a-9c1d2a8ef867"
      },
      "execution_count": 26,
      "outputs": [
        {
          "output_type": "stream",
          "name": "stdout",
          "text": [
            "F1 Score (Weighted): 0.9618\n",
            "\n",
            "Confusion Matrix:\n",
            "[[408   1   0]\n",
            " [ 27 193   2]\n",
            " [  0   0 169]]\n"
          ]
        },
        {
          "output_type": "display_data",
          "data": {
            "text/plain": [
              "<Figure size 640x480 with 2 Axes>"
            ],
            "image/png": "[encoded data removed]"
          },
          "metadata": {}
        }
      ]
    },
    {
      "cell_type": "code",
      "source": [
        "\n",
        "# Load normalized data\n",
        "df = pd.read_csv('transformer_condition_dataset_normalized.csv')\n",
        "X = df.drop('Condition', axis=1).values\n",
        "y = pd.get_dummies(df['Condition']).values  # One-hot encoded\n",
        "\n",
        "# Define MLP model function\n",
        "def create_model():\n",
        "    model = Sequential([\n",
        "        Dense(64, activation='relu', input_shape=(5,)),\n",
        "        Dense(64, activation='relu'),\n",
        "        Dense(3, activation='softmax')\n",
        "    ])\n",
        "    model.compile(optimizer='adam', loss='categorical_crossentropy', metrics=['accuracy'])\n",
        "    return model\n",
        "\n",
        "# K-Fold Cross-Validation\n",
        "k = 5\n",
        "kf = KFold(n_splits=k, shuffle=True, random_state=42)\n",
        "f1_scores = []\n",
        "accuracies = []\n",
        "\n",
        "for fold, (train_idx, test_idx) in enumerate(kf.split(X)):\n",
        "    X_train, X_test = X[train_idx], X[test_idx]\n",
        "    y_train, y_test = y[train_idx], y[test_idx]\n",
        "\n",
        "    # Train model\n",
        "    model = create_model()\n",
        "    model.fit(X_train, y_train, epochs=20, batch_size=32, verbose=0)\n",
        "\n",
        "    # Predict\n",
        "    y_pred_proba = model.predict(X_test)\n",
        "    y_pred = np.argmax(y_pred_proba, axis=1)\n",
        "    y_test_labels = np.argmax(y_test, axis=1)\n",
        "\n",
        "    # Metrics\n",
        "    f1 = f1_score(y_test_labels, y_pred, average='weighted')\n",
        "    acc = model.evaluate(X_test, y_test, verbose=0)[1]\n",
        "    f1_scores.append(f1)\n",
        "    accuracies.append(acc)\n",
        "    print(f\"Fold {fold+1}: F1 Score = {f1:.4f}, Accuracy = {acc:.4f}\")\n",
        "\n",
        "# Average metrics\n",
        "print(f\"\\nAverage F1 Score (Cross-Validation): {np.mean(f1_scores):.4f} ± {np.std(f1_scores):.4f}\")\n",
        "print(f\"Average Accuracy (Cross-Validation): {np.mean(accuracies):.4f} ± {np.std(accuracies):.4f}\")\n",
        "\n",
        "# Final model on train-test split for detailed metrics\n",
        "X_train, X_test, y_train, y_test = train_test_split(X, y, test_size=0.2, random_state=42)\n",
        "model = create_model()\n",
        "model.fit(X_train, y_train, epochs=20, batch_size=32, verbose=0)\n",
        "y_pred_proba = model.predict(X_test)\n",
        "y_pred = np.argmax(y_pred_proba, axis=1)\n",
        "y_test_labels = np.argmax(y_test, axis=1)\n",
        "\n",
        "# Precision, Recall, F1 per Class\n",
        "precision, recall, f1, _ = precision_recall_fscore_support(y_test_labels, y_pred, average=None)\n",
        "classes = ['Normal', 'Not Good', 'Severe']\n",
        "print(\"\\nPer-Class Metrics:\")\n",
        "for i, cls in enumerate(classes):\n",
        "    print(f\"{cls}: Precision = {precision[i]:.4f}, Recall = {recall[i]:.4f}, F1 = {f1[i]:.4f}\")\n",
        "\n",
        "# ROC-AUC (One-vs-Rest)\n",
        "roc_auc = roc_auc_score(y_test, y_pred_proba, multi_class='ovr')\n",
        "print(f\"\\nROC-AUC Score (One-vs-Rest): {roc_auc:.4f}\")\n",
        "\n",
        "# Confusion Matrix\n",
        "cm = confusion_matrix(y_test_labels, y_pred)\n",
        "disp = ConfusionMatrixDisplay(confusion_matrix=cm, display_labels=classes)\n",
        "disp.plot(cmap='Blues')\n",
        "plt.title('Confusion Matrix (Final Split)')\n",
        "plt.show()"
      ],
      "metadata": {
        "colab": {
          "base_uri": "https://localhost:8080/",
          "height": 1000
        },
        "id": "qVnk2Eckxj_e",
        "outputId": "872a121a-ee47-48fb-c11e-1003948e0d7d"
      },
      "execution_count": 22,
      "outputs": [
        {
          "output_type": "stream",
          "name": "stderr",
          "text": [
            "/usr/local/lib/python3.11/dist-packages/keras/src/layers/core/dense.py:87: UserWarning: Do not pass an `input_shape`/`input_dim` argument to a layer. When using Sequential models, prefer using an `Input(shape)` object as the first layer in the model instead.\n",
            "  super().__init__(activity_regularizer=activity_regularizer, **kwargs)\n"
          ]
        },
        {
          "output_type": "stream",
          "name": "stdout",
          "text": [
            "\u001b[1m25/25\u001b[0m \u001b[32m━━━━━━━━━━━━━━━━━━━━\u001b[0m\u001b[37m\u001b[0m \u001b[1m0s\u001b[0m 2ms/step \n",
            "Fold 1: F1 Score = 0.9734, Accuracy = 0.9737\n"
          ]
        },
        {
          "output_type": "stream",
          "name": "stderr",
          "text": [
            "/usr/local/lib/python3.11/dist-packages/keras/src/layers/core/dense.py:87: UserWarning: Do not pass an `input_shape`/`input_dim` argument to a layer. When using Sequential models, prefer using an `Input(shape)` object as the first layer in the model instead.\n",
            "  super().__init__(activity_regularizer=activity_regularizer, **kwargs)\n"
          ]
        },
        {
          "output_type": "stream",
          "name": "stdout",
          "text": [
            "\u001b[1m25/25\u001b[0m \u001b[32m━━━━━━━━━━━━━━━━━━━━\u001b[0m\u001b[37m\u001b[0m \u001b[1m0s\u001b[0m 2ms/step \n",
            "Fold 2: F1 Score = 0.9519, Accuracy = 0.9525\n"
          ]
        },
        {
          "output_type": "stream",
          "name": "stderr",
          "text": [
            "/usr/local/lib/python3.11/dist-packages/keras/src/layers/core/dense.py:87: UserWarning: Do not pass an `input_shape`/`input_dim` argument to a layer. When using Sequential models, prefer using an `Input(shape)` object as the first layer in the model instead.\n",
            "  super().__init__(activity_regularizer=activity_regularizer, **kwargs)\n"
          ]
        },
        {
          "output_type": "stream",
          "name": "stdout",
          "text": [
            "\u001b[1m25/25\u001b[0m \u001b[32m━━━━━━━━━━━━━━━━━━━━\u001b[0m\u001b[37m\u001b[0m \u001b[1m0s\u001b[0m 2ms/step \n",
            "Fold 3: F1 Score = 0.9687, Accuracy = 0.9688\n"
          ]
        },
        {
          "output_type": "stream",
          "name": "stderr",
          "text": [
            "/usr/local/lib/python3.11/dist-packages/keras/src/layers/core/dense.py:87: UserWarning: Do not pass an `input_shape`/`input_dim` argument to a layer. When using Sequential models, prefer using an `Input(shape)` object as the first layer in the model instead.\n",
            "  super().__init__(activity_regularizer=activity_regularizer, **kwargs)\n"
          ]
        },
        {
          "output_type": "stream",
          "name": "stdout",
          "text": [
            "\u001b[1m25/25\u001b[0m \u001b[32m━━━━━━━━━━━━━━━━━━━━\u001b[0m\u001b[37m\u001b[0m \u001b[1m0s\u001b[0m 2ms/step \n",
            "Fold 4: F1 Score = 0.9659, Accuracy = 0.9663\n"
          ]
        },
        {
          "output_type": "stream",
          "name": "stderr",
          "text": [
            "/usr/local/lib/python3.11/dist-packages/keras/src/layers/core/dense.py:87: UserWarning: Do not pass an `input_shape`/`input_dim` argument to a layer. When using Sequential models, prefer using an `Input(shape)` object as the first layer in the model instead.\n",
            "  super().__init__(activity_regularizer=activity_regularizer, **kwargs)\n"
          ]
        },
        {
          "output_type": "stream",
          "name": "stdout",
          "text": [
            "\u001b[1m25/25\u001b[0m \u001b[32m━━━━━━━━━━━━━━━━━━━━\u001b[0m\u001b[37m\u001b[0m \u001b[1m0s\u001b[0m 2ms/step \n",
            "Fold 5: F1 Score = 0.9559, Accuracy = 0.9563\n",
            "\n",
            "Average F1 Score (Cross-Validation): 0.9632 ± 0.0081\n",
            "Average Accuracy (Cross-Validation): 0.9635 ± 0.0079\n"
          ]
        },
        {
          "output_type": "stream",
          "name": "stderr",
          "text": [
            "/usr/local/lib/python3.11/dist-packages/keras/src/layers/core/dense.py:87: UserWarning: Do not pass an `input_shape`/`input_dim` argument to a layer. When using Sequential models, prefer using an `Input(shape)` object as the first layer in the model instead.\n",
            "  super().__init__(activity_regularizer=activity_regularizer, **kwargs)\n"
          ]
        },
        {
          "output_type": "stream",
          "name": "stdout",
          "text": [
            "\u001b[1m25/25\u001b[0m \u001b[32m━━━━━━━━━━━━━━━━━━━━\u001b[0m\u001b[37m\u001b[0m \u001b[1m0s\u001b[0m 2ms/step \n",
            "\n",
            "Per-Class Metrics:\n",
            "Normal: Precision = 0.9736, Recall = 0.9902, F1 = 0.9818\n",
            "Not Good: Precision = 0.9813, Recall = 0.9459, F1 = 0.9633\n",
            "Severe: Precision = 0.9941, Recall = 1.0000, F1 = 0.9971\n",
            "\n",
            "ROC-AUC Score (One-vs-Rest): 0.9964\n"
          ]
        },
        {
          "output_type": "display_data",
          "data": {
            "text/plain": [
              "<Figure size 640x480 with 2 Axes>"
            ],
            "image/png": "[encoded data removed]"
          },
          "metadata": {}
        }
      ]
    },
    {
      "cell_type": "code",
      "source": [
        "model.save(\"mlp_model.keras\")\n"
      ],
      "metadata": {
        "id": "kB4pZGxyyFR9"
      },
      "execution_count": 28,
      "outputs": []
    },
    {
      "cell_type": "code",
      "source": [],
      "metadata": {
        "id": "ArrO9oUz6QdA"
      },
      "execution_count": null,
      "outputs": []
    }
  ]
}